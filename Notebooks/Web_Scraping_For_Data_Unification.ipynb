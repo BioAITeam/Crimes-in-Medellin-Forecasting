{
  "cells": [
    {
      "cell_type": "markdown",
      "source": [
        "# Web Scraping For Data Unification.\n",
        "<a id='top_cell'></a>\n",
        "Using the datasets from http://medata.gov.co/node/85 we use web scraping to unify the datasets on two sets, Resources and Crime."
      ],
      "metadata": {
        "id": "Wls21f_2wuDJ"
      }
    },
    {
      "cell_type": "code",
      "execution_count": null,
      "metadata": {
        "pycharm": {
          "name": "#%%\n"
        },
        "id": "Pq28EgXteYkC"
      },
      "outputs": [],
      "source": [
        "from selenium import webdriver\n",
        "from selenium.webdriver.common.keys import Keys\n",
        "from selenium.webdriver.common.by import By\n",
        "import pandas as pd\n",
        "import frameParser as parser"
      ]
    },
    {
      "cell_type": "markdown",
      "source": [
        "Capture the information of the API provided, and generate a dictionary the names and each download link"
      ],
      "metadata": {
        "id": "0gnmh47Uxhew"
      }
    },
    {
      "cell_type": "code",
      "execution_count": null,
      "metadata": {
        "pycharm": {
          "name": "#%%\n"
        },
        "id": "Pn3iN27peYkN"
      },
      "outputs": [],
      "source": [
        "firefox_driver_path = \"/home/felipe/DS4A/Project/code/datasets_scraping/geckodriver\""
      ]
    },
    {
      "cell_type": "code",
      "execution_count": null,
      "metadata": {
        "pycharm": {
          "name": "#%%\n"
        },
        "id": "TB09Xu81eYkO",
        "outputId": "a17fca90-ffa2-4e2b-b192-d6f1a72c6261"
      },
      "outputs": [
        {
          "name": "stderr",
          "output_type": "stream",
          "text": [
            "/tmp/ipykernel_103321/3979411052.py:1: DeprecationWarning: executable_path has been deprecated, please pass in a Service object\n",
            "  driver = webdriver.Firefox(executable_path=chrome_driver_path)\n"
          ]
        },
        {
          "name": "stdout",
          "output_type": "stream",
          "text": [
            "0,1 Aprehensión: http://medata.gov.co/node/23760/download\n",
            "0,2 Captura: http://medata.gov.co/node/23762/download\n",
            "0,3 Conducción para el restablecimiento de derechos: http://medata.gov.co/node/23745/download\n",
            "0,4 Conducta contraria a la convivencia: http://medata.gov.co/node/23767/download\n",
            "0,5 Consolidado cantidad de casos criminalidad en comunas por año: http://medata.gov.co/node/24152/download\n",
            "0,6 Consolidado cantidad de casos criminalidad en comunas por año y mes: http://medata.gov.co/node/24153/download\n",
            "0,7 Consolidado cantidad de casos criminalidad por año: http://medata.gov.co/node/24150/download\n",
            "0,8 Consolidado cantidad de casos criminalidad por año y mes: http://medata.gov.co/node/24151/download\n",
            "0,9 Extorsión: http://medata.gov.co/node/23747/download\n",
            "0,10 Homicidio: http://medata.gov.co/node/23751/download\n",
            "1,1 Hurto a entidad financiera: http://medata.gov.co/node/23757/download\n",
            "1,2 Hurto a establecimiento comercial: http://medata.gov.co/node/23763/download\n",
            "1,3 Hurto a persona: http://medata.gov.co/node/23756/download\n",
            "1,4 Hurto a personas en transporte público: http://medata.gov.co/node/24154/download\n",
            "1,5 Hurto a residencia: http://medata.gov.co/node/23754/download\n",
            "1,6 Hurto de carro: http://medata.gov.co/node/23768/download\n",
            "1,7 Hurto de moto: http://medata.gov.co/node/23746/download\n",
            "1,8 Hurto de semoviente: http://medata.gov.co/node/23770/download\n",
            "1,9 Hurto por piratería terrestre: http://medata.gov.co/node/23765/download\n",
            "1,10 Incautación arma de fuego: http://medata.gov.co/node/23759/download\n",
            "2,1 Incautación mercancía: http://medata.gov.co/node/23748/download\n",
            "2,2 Lesión fatal accidente de tránsito según policía: http://medata.gov.co/node/23764/download\n",
            "2,3 Lesión fatal accidente de tránsito según policía con precipitación: http://medata.gov.co/node/24149/download\n",
            "2,4 Lesión no fatal accidental según policía: http://medata.gov.co/node/23749/download\n",
            "2,5 Lesión no fatal accidente de tránsito según policía: http://medata.gov.co/node/23755/download\n",
            "2,6 Lesión no fatal dolosa según policía: http://medata.gov.co/node/23753/download\n",
            "2,7 Ley1098: http://medata.gov.co/node/23761/download\n",
            "2,8 Llamada nuse123: http://medata.gov.co/node/23769/download\n",
            "2,9 Recuperación de automotores: http://medata.gov.co/node/23758/download\n",
            "2,10 Recuperación de automotores por año y código de comuna: http://medata.gov.co/node/24155/download\n",
            "3,1 Recuperación de mercancía: http://medata.gov.co/node/23766/download\n",
            "3,2 Reincidencia violencia intrafamiliar: http://medata.gov.co/node/23744/download\n",
            "3,3 Secuestro: http://medata.gov.co/node/23752/download\n",
            "3,4 Solicitud de medidas de protección por violencia intrafamiliar: http://medata.gov.co/node/23750/download\n"
          ]
        },
        {
          "ename": "NoSuchElementException",
          "evalue": "Message: Unable to locate element: //*[@id='main']/div/section/div/div/div/div/div[2]/div/div[2]/div/div/div[2]/div[5]/article/div[2]/h2/a\nStacktrace:\nWebDriverError@chrome://remote/content/shared/webdriver/Errors.jsm:183:5\nNoSuchElementError@chrome://remote/content/shared/webdriver/Errors.jsm:395:5\nelement.find/</<@chrome://remote/content/marionette/element.js:300:16\n",
          "output_type": "error",
          "traceback": [
            "\u001b[0;31m---------------------------------------------------------------------------\u001b[0m",
            "\u001b[0;31mNoSuchElementException\u001b[0m                    Traceback (most recent call last)",
            "Input \u001b[0;32mIn [3]\u001b[0m, in \u001b[0;36m<cell line: 4>\u001b[0;34m()\u001b[0m\n\u001b[1;32m      5\u001b[0m driver\u001b[38;5;241m.\u001b[39mget(\u001b[38;5;124mf\u001b[39m\u001b[38;5;124m\"\u001b[39m\u001b[38;5;124mhttp://medata.gov.co/node/85?search_api_views_fulltext=&sort_by=title&sort_order=ASC&q=node/85&page=\u001b[39m\u001b[38;5;132;01m{\u001b[39;00mk\u001b[38;5;132;01m}\u001b[39;00m\u001b[38;5;124m\"\u001b[39m)\n\u001b[1;32m      7\u001b[0m \u001b[38;5;28;01mfor\u001b[39;00m i \u001b[38;5;129;01min\u001b[39;00m \u001b[38;5;28mrange\u001b[39m(\u001b[38;5;241m1\u001b[39m, \u001b[38;5;241m11\u001b[39m):\n\u001b[0;32m----> 8\u001b[0m     element \u001b[38;5;241m=\u001b[39m \u001b[43mdriver\u001b[49m\u001b[38;5;241;43m.\u001b[39;49m\u001b[43mfind_element\u001b[49m\u001b[43m(\u001b[49m\u001b[43mBy\u001b[49m\u001b[38;5;241;43m.\u001b[39;49m\u001b[43mXPATH\u001b[49m\u001b[43m,\u001b[49m\u001b[38;5;124;43mf\u001b[39;49m\u001b[38;5;124;43m\"\u001b[39;49m\u001b[38;5;124;43m//*[@id=\u001b[39;49m\u001b[38;5;124;43m'\u001b[39;49m\u001b[38;5;124;43mmain\u001b[39;49m\u001b[38;5;124;43m'\u001b[39;49m\u001b[38;5;124;43m]/div/section/div/div/div/div/div[2]/div/div[2]/div/div/div[2]/div[\u001b[39;49m\u001b[38;5;132;43;01m{\u001b[39;49;00m\u001b[43mi\u001b[49m\u001b[38;5;132;43;01m}\u001b[39;49;00m\u001b[38;5;124;43m]/article/div[2]/h2/a\u001b[39;49m\u001b[38;5;124;43m\"\u001b[39;49m\u001b[43m)\u001b[49m\n\u001b[1;32m      9\u001b[0m     name \u001b[38;5;241m=\u001b[39m element\u001b[38;5;241m.\u001b[39mtext\n\u001b[1;32m     10\u001b[0m     element\u001b[38;5;241m.\u001b[39mclick()\n",
            "File \u001b[0;32m/opt/anaconda3/envs/CondaInterpreter/lib/python3.10/site-packages/selenium/webdriver/remote/webdriver.py:1244\u001b[0m, in \u001b[0;36mWebDriver.find_element\u001b[0;34m(self, by, value)\u001b[0m\n\u001b[1;32m   1241\u001b[0m     by \u001b[38;5;241m=\u001b[39m By\u001b[38;5;241m.\u001b[39mCSS_SELECTOR\n\u001b[1;32m   1242\u001b[0m     value \u001b[38;5;241m=\u001b[39m \u001b[38;5;124m'\u001b[39m\u001b[38;5;124m[name=\u001b[39m\u001b[38;5;124m\"\u001b[39m\u001b[38;5;132;01m%s\u001b[39;00m\u001b[38;5;124m\"\u001b[39m\u001b[38;5;124m]\u001b[39m\u001b[38;5;124m'\u001b[39m \u001b[38;5;241m%\u001b[39m value\n\u001b[0;32m-> 1244\u001b[0m \u001b[38;5;28;01mreturn\u001b[39;00m \u001b[38;5;28;43mself\u001b[39;49m\u001b[38;5;241;43m.\u001b[39;49m\u001b[43mexecute\u001b[49m\u001b[43m(\u001b[49m\u001b[43mCommand\u001b[49m\u001b[38;5;241;43m.\u001b[39;49m\u001b[43mFIND_ELEMENT\u001b[49m\u001b[43m,\u001b[49m\u001b[43m \u001b[49m\u001b[43m{\u001b[49m\n\u001b[1;32m   1245\u001b[0m \u001b[43m    \u001b[49m\u001b[38;5;124;43m'\u001b[39;49m\u001b[38;5;124;43musing\u001b[39;49m\u001b[38;5;124;43m'\u001b[39;49m\u001b[43m:\u001b[49m\u001b[43m \u001b[49m\u001b[43mby\u001b[49m\u001b[43m,\u001b[49m\n\u001b[1;32m   1246\u001b[0m \u001b[43m    \u001b[49m\u001b[38;5;124;43m'\u001b[39;49m\u001b[38;5;124;43mvalue\u001b[39;49m\u001b[38;5;124;43m'\u001b[39;49m\u001b[43m:\u001b[49m\u001b[43m \u001b[49m\u001b[43mvalue\u001b[49m\u001b[43m}\u001b[49m\u001b[43m)\u001b[49m[\u001b[38;5;124m'\u001b[39m\u001b[38;5;124mvalue\u001b[39m\u001b[38;5;124m'\u001b[39m]\n",
            "File \u001b[0;32m/opt/anaconda3/envs/CondaInterpreter/lib/python3.10/site-packages/selenium/webdriver/remote/webdriver.py:424\u001b[0m, in \u001b[0;36mWebDriver.execute\u001b[0;34m(self, driver_command, params)\u001b[0m\n\u001b[1;32m    422\u001b[0m response \u001b[38;5;241m=\u001b[39m \u001b[38;5;28mself\u001b[39m\u001b[38;5;241m.\u001b[39mcommand_executor\u001b[38;5;241m.\u001b[39mexecute(driver_command, params)\n\u001b[1;32m    423\u001b[0m \u001b[38;5;28;01mif\u001b[39;00m response:\n\u001b[0;32m--> 424\u001b[0m     \u001b[38;5;28;43mself\u001b[39;49m\u001b[38;5;241;43m.\u001b[39;49m\u001b[43merror_handler\u001b[49m\u001b[38;5;241;43m.\u001b[39;49m\u001b[43mcheck_response\u001b[49m\u001b[43m(\u001b[49m\u001b[43mresponse\u001b[49m\u001b[43m)\u001b[49m\n\u001b[1;32m    425\u001b[0m     response[\u001b[38;5;124m'\u001b[39m\u001b[38;5;124mvalue\u001b[39m\u001b[38;5;124m'\u001b[39m] \u001b[38;5;241m=\u001b[39m \u001b[38;5;28mself\u001b[39m\u001b[38;5;241m.\u001b[39m_unwrap_value(\n\u001b[1;32m    426\u001b[0m         response\u001b[38;5;241m.\u001b[39mget(\u001b[38;5;124m'\u001b[39m\u001b[38;5;124mvalue\u001b[39m\u001b[38;5;124m'\u001b[39m, \u001b[38;5;28;01mNone\u001b[39;00m))\n\u001b[1;32m    427\u001b[0m     \u001b[38;5;28;01mreturn\u001b[39;00m response\n",
            "File \u001b[0;32m/opt/anaconda3/envs/CondaInterpreter/lib/python3.10/site-packages/selenium/webdriver/remote/errorhandler.py:247\u001b[0m, in \u001b[0;36mErrorHandler.check_response\u001b[0;34m(self, response)\u001b[0m\n\u001b[1;32m    245\u001b[0m         alert_text \u001b[38;5;241m=\u001b[39m value[\u001b[38;5;124m'\u001b[39m\u001b[38;5;124malert\u001b[39m\u001b[38;5;124m'\u001b[39m]\u001b[38;5;241m.\u001b[39mget(\u001b[38;5;124m'\u001b[39m\u001b[38;5;124mtext\u001b[39m\u001b[38;5;124m'\u001b[39m)\n\u001b[1;32m    246\u001b[0m     \u001b[38;5;28;01mraise\u001b[39;00m exception_class(message, screen, stacktrace, alert_text)  \u001b[38;5;66;03m# type: ignore[call-arg]  # mypy is not smart enough here\u001b[39;00m\n\u001b[0;32m--> 247\u001b[0m \u001b[38;5;28;01mraise\u001b[39;00m exception_class(message, screen, stacktrace)\n",
            "\u001b[0;31mNoSuchElementException\u001b[0m: Message: Unable to locate element: //*[@id='main']/div/section/div/div/div/div/div[2]/div/div[2]/div/div/div[2]/div[5]/article/div[2]/h2/a\nStacktrace:\nWebDriverError@chrome://remote/content/shared/webdriver/Errors.jsm:183:5\nNoSuchElementError@chrome://remote/content/shared/webdriver/Errors.jsm:395:5\nelement.find/</<@chrome://remote/content/marionette/element.js:300:16\n"
          ]
        }
      ],
      "source": [
        "driver = webdriver.Firefox(executable_path=firefox_driver_path)\n",
        "button = \"//*[@id='data-and-resources']/div/div/ul/li/div/span/a[2]\"\n",
        "sources = {}\n",
        "for k in range(0, 4):\n",
        "    driver.get(\n",
        "        f\"http://medata.gov.co/node/85?search_api_views_fulltext=&sort_by=title&sort_order=ASC&q=node/85&page={k}\")\n",
        "\n",
        "    for i in range(1, 11):\n",
        "        element = driver.find_element(By.XPATH,\n",
        "                                      f\"//*[@id='main']/div/section/div/div/div/div/div[2]/div/div[2]/div/div/div[2]/div[{i}]/article/div[2]/h2/a\")\n",
        "        name = element.text\n",
        "        element.click()\n",
        "        href = driver.find_element(By.XPATH,\n",
        "                                   \"/html/body/div[2]/div/div/section/div/div/div/div/div[2]/div/div/div/article/div/div[4]/div/div/ul/li/div/span/a[2]\").get_attribute(\n",
        "            'href')\n",
        "        print(f\"{k},{i} {name}: {href}\")\n",
        "        sources[name] = href\n",
        "        driver.back()"
      ]
    },
    {
      "cell_type": "markdown",
      "source": [
        "make the dictionary a dataframe"
      ],
      "metadata": {
        "id": "EExbVMKXx5ys"
      }
    },
    {
      "cell_type": "code",
      "execution_count": null,
      "metadata": {
        "pycharm": {
          "name": "#%%\n"
        },
        "id": "lNCCFLyZeYkR",
        "outputId": "24ae12fa-e53f-4187-d561-d480b5a3441a"
      },
      "outputs": [
        {
          "name": "stdout",
          "output_type": "stream",
          "text": [
            "1,Aprehensión\n",
            "2,Captura\n",
            "3,Conducción para el restablecimiento de derechos\n",
            "4,Conducta contraria a la convivencia\n",
            "5,Consolidado cantidad de casos criminalidad en comunas por año\n",
            "6,Consolidado cantidad de casos criminalidad en comunas por año y mes\n",
            "7,Consolidado cantidad de casos criminalidad por año\n",
            "8,Consolidado cantidad de casos criminalidad por año y mes\n",
            "9,Extorsión\n",
            "10,Homicidio\n",
            "11,Hurto a entidad financiera\n",
            "12,Hurto a establecimiento comercial\n",
            "13,Hurto a persona\n",
            "14,Hurto a personas en transporte público\n",
            "15,Hurto a residencia\n",
            "16,Hurto de carro\n",
            "17,Hurto de moto\n",
            "18,Hurto de semoviente\n",
            "19,Hurto por piratería terrestre\n",
            "20,Incautación arma de fuego\n",
            "21,Incautación mercancía\n",
            "22,Lesión fatal accidente de tránsito según policía\n",
            "23,Lesión fatal accidente de tránsito según policía con precipitación\n",
            "24,Lesión no fatal accidental según policía\n",
            "25,Lesión no fatal accidente de tránsito según policía\n",
            "26,Lesión no fatal dolosa según policía\n",
            "27,Ley1098\n",
            "28,Llamada nuse123\n",
            "29,Recuperación de automotores\n",
            "30,Recuperación de automotores por año y código de comuna\n",
            "31,Recuperación de mercancía\n",
            "32,Reincidencia violencia intrafamiliar\n",
            "33,Secuestro\n",
            "34,Solicitud de medidas de protección por violencia intrafamiliar\n"
          ]
        }
      ],
      "source": [
        "#pd.DataFrame(sources.items())\n",
        "data = pd.DataFrame(columns=parser.cols)\n",
        "for i, source in enumerate(sources):\n",
        "    print(f\"{i + 1},{source}\")  #{sources[source]}\")\n",
        "    df = parser.get_df_from_url(sources[source])\n",
        "    #data = parser.concat_df_info(df, source, data)"
      ]
    },
    {
      "cell_type": "markdown",
      "source": [
        "We generate de united dataframes and save it"
      ],
      "metadata": {
        "id": "Gvs_INPKyX0x"
      }
    },
    {
      "cell_type": "code",
      "execution_count": null,
      "metadata": {
        "pycharm": {
          "name": "#%%\n"
        },
        "id": "d5fQ-40GeYkS",
        "outputId": "6bac7604-4f7f-4cab-f94b-91919f606857"
      },
      "outputs": [
        {
          "data": {
            "text/html": [
              "<div>\n",
              "<style scoped>\n",
              "    .dataframe tbody tr th:only-of-type {\n",
              "        vertical-align: middle;\n",
              "    }\n",
              "\n",
              "    .dataframe tbody tr th {\n",
              "        vertical-align: top;\n",
              "    }\n",
              "\n",
              "    .dataframe thead th {\n",
              "        text-align: right;\n",
              "    }\n",
              "</style>\n",
              "<table border=\"1\" class=\"dataframe\">\n",
              "  <thead>\n",
              "    <tr style=\"text-align: right;\">\n",
              "      <th></th>\n",
              "      <th>dataframe</th>\n",
              "      <th>col_num</th>\n",
              "      <th>tipo</th>\n",
              "      <th>nombre</th>\n",
              "      <th>total</th>\n",
              "      <th>registros</th>\n",
              "      <th>num_categorias</th>\n",
              "      <th>categorias_unicas</th>\n",
              "      <th>desc_info</th>\n",
              "    </tr>\n",
              "    <tr>\n",
              "      <th>df_num</th>\n",
              "      <th></th>\n",
              "      <th></th>\n",
              "      <th></th>\n",
              "      <th></th>\n",
              "      <th></th>\n",
              "      <th></th>\n",
              "      <th></th>\n",
              "      <th></th>\n",
              "      <th></th>\n",
              "    </tr>\n",
              "  </thead>\n",
              "  <tbody>\n",
              "    <tr>\n",
              "      <th>1</th>\n",
              "      <td>Aprehensión</td>\n",
              "      <td>1</td>\n",
              "      <td>fecha</td>\n",
              "      <td>fecha_hecho</td>\n",
              "      <td>1043</td>\n",
              "      <td>1043</td>\n",
              "      <td>13</td>\n",
              "      <td>2004: 137, 2005: 163, 2006: 223, 2007: 381, 20...</td>\n",
              "      <td>count: 1043, unique: 984, top: 2005-07-11 11:5...</td>\n",
              "    </tr>\n",
              "    <tr>\n",
              "      <th>1</th>\n",
              "      <td>Aprehensión</td>\n",
              "      <td>2</td>\n",
              "      <td>float64</td>\n",
              "      <td>cantidad</td>\n",
              "      <td>1043</td>\n",
              "      <td>1043</td>\n",
              "      <td>1</td>\n",
              "      <td>1.0: 1043,</td>\n",
              "      <td>count: 1043.0, mean: 1.0, std: 0.0, min: 1.0, ...</td>\n",
              "    </tr>\n",
              "    <tr>\n",
              "      <th>1</th>\n",
              "      <td>Aprehensión</td>\n",
              "      <td>3</td>\n",
              "      <td>float64</td>\n",
              "      <td>latitud</td>\n",
              "      <td>1043</td>\n",
              "      <td>808</td>\n",
              "      <td>487</td>\n",
              "      <td>mas de 200</td>\n",
              "      <td>count: 808.0, mean: 6.253193913737623, std: 0....</td>\n",
              "    </tr>\n",
              "    <tr>\n",
              "      <th>1</th>\n",
              "      <td>Aprehensión</td>\n",
              "      <td>4</td>\n",
              "      <td>float64</td>\n",
              "      <td>longitud</td>\n",
              "      <td>1043</td>\n",
              "      <td>808</td>\n",
              "      <td>484</td>\n",
              "      <td>mas de 200</td>\n",
              "      <td>count: 808.0, mean: -75.5686218609406, std: 0....</td>\n",
              "    </tr>\n",
              "    <tr>\n",
              "      <th>1</th>\n",
              "      <td>Aprehensión</td>\n",
              "      <td>5</td>\n",
              "      <td>object</td>\n",
              "      <td>sexo</td>\n",
              "      <td>1043</td>\n",
              "      <td>1043</td>\n",
              "      <td>3</td>\n",
              "      <td>Hombre: 961, Mujer: 76, Sin dato: 6,</td>\n",
              "      <td>count: 1043, unique: 3, top: Hombre, freq: 961,</td>\n",
              "    </tr>\n",
              "    <tr>\n",
              "      <th>...</th>\n",
              "      <td>...</td>\n",
              "      <td>...</td>\n",
              "      <td>...</td>\n",
              "      <td>...</td>\n",
              "      <td>...</td>\n",
              "      <td>...</td>\n",
              "      <td>...</td>\n",
              "      <td>...</td>\n",
              "      <td>...</td>\n",
              "    </tr>\n",
              "    <tr>\n",
              "      <th>34</th>\n",
              "      <td>Solicitud de medidas de protección por violenc...</td>\n",
              "      <td>32</td>\n",
              "      <td>object</td>\n",
              "      <td>modelo</td>\n",
              "      <td>83428</td>\n",
              "      <td>83428</td>\n",
              "      <td>1</td>\n",
              "      <td>Sin dato: 83428,</td>\n",
              "      <td>count: 83428, unique: 1, top: Sin dato, freq: ...</td>\n",
              "    </tr>\n",
              "    <tr>\n",
              "      <th>34</th>\n",
              "      <td>Solicitud de medidas de protección por violenc...</td>\n",
              "      <td>33</td>\n",
              "      <td>object</td>\n",
              "      <td>color</td>\n",
              "      <td>83428</td>\n",
              "      <td>83428</td>\n",
              "      <td>1</td>\n",
              "      <td>Sin dato: 83428,</td>\n",
              "      <td>count: 83428, unique: 1, top: Sin dato, freq: ...</td>\n",
              "    </tr>\n",
              "    <tr>\n",
              "      <th>34</th>\n",
              "      <td>Solicitud de medidas de protección por violenc...</td>\n",
              "      <td>34</td>\n",
              "      <td>object</td>\n",
              "      <td>permiso</td>\n",
              "      <td>83428</td>\n",
              "      <td>83428</td>\n",
              "      <td>1</td>\n",
              "      <td>Sin dato: 83428,</td>\n",
              "      <td>count: 83428, unique: 1, top: Sin dato, freq: ...</td>\n",
              "    </tr>\n",
              "    <tr>\n",
              "      <th>34</th>\n",
              "      <td>Solicitud de medidas de protección por violenc...</td>\n",
              "      <td>35</td>\n",
              "      <td>object</td>\n",
              "      <td>unidad_medida</td>\n",
              "      <td>83428</td>\n",
              "      <td>83428</td>\n",
              "      <td>1</td>\n",
              "      <td>Sin dato: 83428,</td>\n",
              "      <td>count: 83428, unique: 1, top: Sin dato, freq: ...</td>\n",
              "    </tr>\n",
              "    <tr>\n",
              "      <th>34</th>\n",
              "      <td>Solicitud de medidas de protección por violenc...</td>\n",
              "      <td>36</td>\n",
              "      <td>fecha</td>\n",
              "      <td>fecha_ingestion</td>\n",
              "      <td>83428</td>\n",
              "      <td>83428</td>\n",
              "      <td>1</td>\n",
              "      <td>2022: 83428,</td>\n",
              "      <td>count: 83428, unique: 1, top: 2022-03-06 04:05...</td>\n",
              "    </tr>\n",
              "  </tbody>\n",
              "</table>\n",
              "<p>1061 rows × 9 columns</p>\n",
              "</div>"
            ],
            "text/plain": [
              "                                                dataframe col_num     tipo  \\\n",
              "df_num                                                                       \n",
              "1                                             Aprehensión       1    fecha   \n",
              "1                                             Aprehensión       2  float64   \n",
              "1                                             Aprehensión       3  float64   \n",
              "1                                             Aprehensión       4  float64   \n",
              "1                                             Aprehensión       5   object   \n",
              "...                                                   ...     ...      ...   \n",
              "34      Solicitud de medidas de protección por violenc...      32   object   \n",
              "34      Solicitud de medidas de protección por violenc...      33   object   \n",
              "34      Solicitud de medidas de protección por violenc...      34   object   \n",
              "34      Solicitud de medidas de protección por violenc...      35   object   \n",
              "34      Solicitud de medidas de protección por violenc...      36    fecha   \n",
              "\n",
              "                 nombre  total registros num_categorias  \\\n",
              "df_num                                                    \n",
              "1           fecha_hecho   1043      1043             13   \n",
              "1              cantidad   1043      1043              1   \n",
              "1               latitud   1043       808            487   \n",
              "1              longitud   1043       808            484   \n",
              "1                  sexo   1043      1043              3   \n",
              "...                 ...    ...       ...            ...   \n",
              "34               modelo  83428     83428              1   \n",
              "34                color  83428     83428              1   \n",
              "34              permiso  83428     83428              1   \n",
              "34        unidad_medida  83428     83428              1   \n",
              "34      fecha_ingestion  83428     83428              1   \n",
              "\n",
              "                                        categorias_unicas  \\\n",
              "df_num                                                      \n",
              "1       2004: 137, 2005: 163, 2006: 223, 2007: 381, 20...   \n",
              "1                                             1.0: 1043,    \n",
              "1                                              mas de 200   \n",
              "1                                              mas de 200   \n",
              "1                   Hombre: 961, Mujer: 76, Sin dato: 6,    \n",
              "...                                                   ...   \n",
              "34                                      Sin dato: 83428,    \n",
              "34                                      Sin dato: 83428,    \n",
              "34                                      Sin dato: 83428,    \n",
              "34                                      Sin dato: 83428,    \n",
              "34                                          2022: 83428,    \n",
              "\n",
              "                                                desc_info  \n",
              "df_num                                                     \n",
              "1       count: 1043, unique: 984, top: 2005-07-11 11:5...  \n",
              "1       count: 1043.0, mean: 1.0, std: 0.0, min: 1.0, ...  \n",
              "1       count: 808.0, mean: 6.253193913737623, std: 0....  \n",
              "1       count: 808.0, mean: -75.5686218609406, std: 0....  \n",
              "1        count: 1043, unique: 3, top: Hombre, freq: 961,   \n",
              "...                                                   ...  \n",
              "34      count: 83428, unique: 1, top: Sin dato, freq: ...  \n",
              "34      count: 83428, unique: 1, top: Sin dato, freq: ...  \n",
              "34      count: 83428, unique: 1, top: Sin dato, freq: ...  \n",
              "34      count: 83428, unique: 1, top: Sin dato, freq: ...  \n",
              "34      count: 83428, unique: 1, top: 2022-03-06 04:05...  \n",
              "\n",
              "[1061 rows x 9 columns]"
            ]
          },
          "execution_count": 17,
          "metadata": {},
          "output_type": "execute_result"
        }
      ],
      "source": [
        "num_dic = {}\n",
        "for i, k in enumerate(data.dataframe.unique()):\n",
        "    num_dic[k] = i + 1\n",
        "\n",
        "data['df_num'] = data['dataframe'].map(num_dic)\n",
        "data = data.set_index('df_num')\n",
        "data"
      ]
    },
    {
      "cell_type": "markdown",
      "metadata": {
        "pycharm": {
          "name": "#%% md\n"
        },
        "id": "uvuxBMMdeYkT"
      },
      "source": [
        "## Dictionary with the categories\n",
        "We generate a Dictionary that contain each dataset name and each final group dataset so we could divide on Resources (Recursos) or Crime (Crimen) datasets."
      ]
    },
    {
      "cell_type": "code",
      "execution_count": null,
      "metadata": {
        "pycharm": {
          "name": "#%%\n"
        },
        "id": "1tZXkOF-eYkY"
      },
      "outputs": [],
      "source": [
        "df_dict = {\n",
        "    \"Aprehensión\": \"Recurso\",\n",
        "    \"Captura\": \"Recurso\",\n",
        "    \"Conducción para el restablecimiento de derechos\": \"Recurso\",\n",
        "    \"Conducta contraria a la convivencia\": \"Recurso\",\n",
        "    \"Extorsión\": \"Crimen\",\n",
        "    \"Homicidio\": \"Crimen\",\n",
        "    \"Hurto a entidad financiera\": \"Crimen\",\n",
        "    \"Hurto a establecimiento comercial\": \"Crimen\",\n",
        "    \"Hurto a persona\": \"Crimen\",\n",
        "    \"Hurto a personas en transporte público\": \"Crimen\",\n",
        "    \"Hurto a residencia\": \"Crimen\",\n",
        "    \"Hurto de carro\": \"Crimen\",\n",
        "    \"Hurto de moto\": \"Crimen\",\n",
        "    \"Hurto de semoviente\": \"Crimen\",\n",
        "    \"Hurto por piratería terrestre\": \"Crimen\",\n",
        "    \"Incautación arma de fuego\": \"Recurso\",\n",
        "    \"Incautación mercancía\": \"Recurso\",\n",
        "    \"Lesión fatal accidente de tránsito según policía\": \"Recurso\",\n",
        "    \"Lesión fatal accidente de tránsito según policía con precipitación\": \"Recurso\",\n",
        "    \"Lesión no fatal accidental según policía\": \"Recurso\",\n",
        "    \"Lesión no fatal accidente de tránsito según policía\": \"Recurso\",\n",
        "    \"Lesión no fatal dolosa según policía\": \"Recurso\",\n",
        "    \"Ley1098\": \"Recurso\",\n",
        "    \"Llamada nuse123\": \"Recurso\",\n",
        "    \"Recuperación de automotores\": \"Recurso\",\n",
        "    \"Recuperación de mercancía\": \"Recurso\",\n",
        "    \"Reincidencia violencia intrafamiliar\": \"Crimen\",\n",
        "    \"Secuestro\": \"Crimen\",\n",
        "    \"Solicitud de medidas de protección por violencia intrafamiliar\": \"Recurso\",\n",
        "}"
      ]
    },
    {
      "cell_type": "code",
      "execution_count": null,
      "metadata": {
        "pycharm": {
          "name": "#%%\n"
        },
        "id": "2PmoKdVQeYkb",
        "outputId": "b67d84af-67be-4284-8e56-c7ab9ae29b07"
      },
      "outputs": [
        {
          "name": "stdout",
          "output_type": "stream",
          "text": [
            "1,Aprehensión, Recurso\n",
            "loaded\n",
            "2,Captura, Recurso\n"
          ]
        },
        {
          "name": "stderr",
          "output_type": "stream",
          "text": [
            "/tmp/ipykernel_103321/901921535.py:13: FutureWarning: The frame.append method is deprecated and will be removed from pandas in a future version. Use pandas.concat instead.\n",
            "  df_resource = df_resource.append(df)\n",
            "/home/felipe/DS4A/Project/code/datasets_scraping/frameParser.py:12: DtypeWarning: Columns (25) have mixed types. Specify dtype option on import or set low_memory=False.\n",
            "  return pd.read_csv(io.StringIO(content.decode('utf-8')), sep=\";\")\n"
          ]
        },
        {
          "name": "stdout",
          "output_type": "stream",
          "text": [
            "loaded\n"
          ]
        },
        {
          "name": "stderr",
          "output_type": "stream",
          "text": [
            "/tmp/ipykernel_103321/901921535.py:13: FutureWarning: The frame.append method is deprecated and will be removed from pandas in a future version. Use pandas.concat instead.\n",
            "  df_resource = df_resource.append(df)\n"
          ]
        },
        {
          "name": "stdout",
          "output_type": "stream",
          "text": [
            "3,Conducción para el restablecimiento de derechos, Recurso\n",
            "loaded\n",
            "4,Conducta contraria a la convivencia, Recurso\n"
          ]
        },
        {
          "name": "stderr",
          "output_type": "stream",
          "text": [
            "/tmp/ipykernel_103321/901921535.py:13: FutureWarning: The frame.append method is deprecated and will be removed from pandas in a future version. Use pandas.concat instead.\n",
            "  df_resource = df_resource.append(df)\n"
          ]
        },
        {
          "name": "stdout",
          "output_type": "stream",
          "text": [
            "loaded\n",
            "9,Extorsión, Crimen\n"
          ]
        },
        {
          "name": "stderr",
          "output_type": "stream",
          "text": [
            "/tmp/ipykernel_103321/901921535.py:13: FutureWarning: The frame.append method is deprecated and will be removed from pandas in a future version. Use pandas.concat instead.\n",
            "  df_resource = df_resource.append(df)\n"
          ]
        },
        {
          "name": "stdout",
          "output_type": "stream",
          "text": [
            "loaded\n",
            "10,Homicidio, Crimen\n"
          ]
        },
        {
          "name": "stderr",
          "output_type": "stream",
          "text": [
            "/tmp/ipykernel_103321/901921535.py:11: FutureWarning: The frame.append method is deprecated and will be removed from pandas in a future version. Use pandas.concat instead.\n",
            "  df_crime = df_crime.append(df)\n"
          ]
        },
        {
          "name": "stdout",
          "output_type": "stream",
          "text": [
            "loaded\n",
            "11,Hurto a entidad financiera, Crimen\n"
          ]
        },
        {
          "name": "stderr",
          "output_type": "stream",
          "text": [
            "/tmp/ipykernel_103321/901921535.py:11: FutureWarning: The frame.append method is deprecated and will be removed from pandas in a future version. Use pandas.concat instead.\n",
            "  df_crime = df_crime.append(df)\n"
          ]
        },
        {
          "name": "stdout",
          "output_type": "stream",
          "text": [
            "loaded\n",
            "12,Hurto a establecimiento comercial, Crimen\n"
          ]
        },
        {
          "name": "stderr",
          "output_type": "stream",
          "text": [
            "/tmp/ipykernel_103321/901921535.py:11: FutureWarning: The frame.append method is deprecated and will be removed from pandas in a future version. Use pandas.concat instead.\n",
            "  df_crime = df_crime.append(df)\n"
          ]
        },
        {
          "name": "stdout",
          "output_type": "stream",
          "text": [
            "loaded\n",
            "13,Hurto a persona, Crimen\n"
          ]
        },
        {
          "name": "stderr",
          "output_type": "stream",
          "text": [
            "/tmp/ipykernel_103321/901921535.py:11: FutureWarning: The frame.append method is deprecated and will be removed from pandas in a future version. Use pandas.concat instead.\n",
            "  df_crime = df_crime.append(df)\n",
            "/home/felipe/DS4A/Project/code/datasets_scraping/frameParser.py:12: DtypeWarning: Columns (25) have mixed types. Specify dtype option on import or set low_memory=False.\n",
            "  return pd.read_csv(io.StringIO(content.decode('utf-8')), sep=\";\")\n"
          ]
        },
        {
          "name": "stdout",
          "output_type": "stream",
          "text": [
            "loaded\n"
          ]
        },
        {
          "name": "stderr",
          "output_type": "stream",
          "text": [
            "/tmp/ipykernel_103321/901921535.py:11: FutureWarning: The frame.append method is deprecated and will be removed from pandas in a future version. Use pandas.concat instead.\n",
            "  df_crime = df_crime.append(df)\n"
          ]
        },
        {
          "name": "stdout",
          "output_type": "stream",
          "text": [
            "14,Hurto a personas en transporte público, Crimen\n"
          ]
        },
        {
          "name": "stderr",
          "output_type": "stream",
          "text": [
            "/home/felipe/DS4A/Project/code/datasets_scraping/frameParser.py:12: DtypeWarning: Columns (25) have mixed types. Specify dtype option on import or set low_memory=False.\n",
            "  return pd.read_csv(io.StringIO(content.decode('utf-8')), sep=\";\")\n",
            "/tmp/ipykernel_103321/901921535.py:11: FutureWarning: The frame.append method is deprecated and will be removed from pandas in a future version. Use pandas.concat instead.\n",
            "  df_crime = df_crime.append(df)\n"
          ]
        },
        {
          "name": "stdout",
          "output_type": "stream",
          "text": [
            "loaded\n",
            "15,Hurto a residencia, Crimen\n"
          ]
        },
        {
          "name": "stderr",
          "output_type": "stream",
          "text": [
            "/home/felipe/DS4A/Project/code/datasets_scraping/frameParser.py:12: DtypeWarning: Columns (25) have mixed types. Specify dtype option on import or set low_memory=False.\n",
            "  return pd.read_csv(io.StringIO(content.decode('utf-8')), sep=\";\")\n",
            "/tmp/ipykernel_103321/901921535.py:11: FutureWarning: The frame.append method is deprecated and will be removed from pandas in a future version. Use pandas.concat instead.\n",
            "  df_crime = df_crime.append(df)\n"
          ]
        },
        {
          "name": "stdout",
          "output_type": "stream",
          "text": [
            "loaded\n",
            "16,Hurto de carro, Crimen\n"
          ]
        },
        {
          "name": "stderr",
          "output_type": "stream",
          "text": [
            "/home/felipe/DS4A/Project/code/datasets_scraping/frameParser.py:12: DtypeWarning: Columns (25) have mixed types. Specify dtype option on import or set low_memory=False.\n",
            "  return pd.read_csv(io.StringIO(content.decode('utf-8')), sep=\";\")\n",
            "/tmp/ipykernel_103321/901921535.py:11: FutureWarning: The frame.append method is deprecated and will be removed from pandas in a future version. Use pandas.concat instead.\n",
            "  df_crime = df_crime.append(df)\n"
          ]
        },
        {
          "name": "stdout",
          "output_type": "stream",
          "text": [
            "loaded\n",
            "17,Hurto de moto, Crimen\n"
          ]
        },
        {
          "name": "stderr",
          "output_type": "stream",
          "text": [
            "/home/felipe/DS4A/Project/code/datasets_scraping/frameParser.py:12: DtypeWarning: Columns (25) have mixed types. Specify dtype option on import or set low_memory=False.\n",
            "  return pd.read_csv(io.StringIO(content.decode('utf-8')), sep=\";\")\n",
            "/tmp/ipykernel_103321/901921535.py:11: FutureWarning: The frame.append method is deprecated and will be removed from pandas in a future version. Use pandas.concat instead.\n",
            "  df_crime = df_crime.append(df)\n"
          ]
        },
        {
          "name": "stdout",
          "output_type": "stream",
          "text": [
            "loaded\n",
            "18,Hurto de semoviente, Crimen\n",
            "loaded\n",
            "19,Hurto por piratería terrestre, Crimen\n"
          ]
        },
        {
          "name": "stderr",
          "output_type": "stream",
          "text": [
            "/tmp/ipykernel_103321/901921535.py:11: FutureWarning: The frame.append method is deprecated and will be removed from pandas in a future version. Use pandas.concat instead.\n",
            "  df_crime = df_crime.append(df)\n"
          ]
        },
        {
          "name": "stdout",
          "output_type": "stream",
          "text": [
            "loaded\n",
            "20,Incautación arma de fuego, Recurso\n"
          ]
        },
        {
          "name": "stderr",
          "output_type": "stream",
          "text": [
            "/tmp/ipykernel_103321/901921535.py:11: FutureWarning: The frame.append method is deprecated and will be removed from pandas in a future version. Use pandas.concat instead.\n",
            "  df_crime = df_crime.append(df)\n"
          ]
        },
        {
          "name": "stdout",
          "output_type": "stream",
          "text": [
            "loaded\n",
            "21,Incautación mercancía, Recurso\n"
          ]
        },
        {
          "name": "stderr",
          "output_type": "stream",
          "text": [
            "/tmp/ipykernel_103321/901921535.py:13: FutureWarning: The frame.append method is deprecated and will be removed from pandas in a future version. Use pandas.concat instead.\n",
            "  df_resource = df_resource.append(df)\n",
            "/home/felipe/DS4A/Project/code/datasets_scraping/frameParser.py:12: DtypeWarning: Columns (25) have mixed types. Specify dtype option on import or set low_memory=False.\n",
            "  return pd.read_csv(io.StringIO(content.decode('utf-8')), sep=\";\")\n"
          ]
        },
        {
          "name": "stdout",
          "output_type": "stream",
          "text": [
            "loaded\n"
          ]
        },
        {
          "name": "stderr",
          "output_type": "stream",
          "text": [
            "/tmp/ipykernel_103321/901921535.py:13: FutureWarning: The frame.append method is deprecated and will be removed from pandas in a future version. Use pandas.concat instead.\n",
            "  df_resource = df_resource.append(df)\n"
          ]
        },
        {
          "name": "stdout",
          "output_type": "stream",
          "text": [
            "22,Lesión fatal accidente de tránsito según policía, Recurso\n",
            "loaded\n"
          ]
        },
        {
          "name": "stderr",
          "output_type": "stream",
          "text": [
            "/tmp/ipykernel_103321/901921535.py:13: FutureWarning: The frame.append method is deprecated and will be removed from pandas in a future version. Use pandas.concat instead.\n",
            "  df_resource = df_resource.append(df)\n"
          ]
        },
        {
          "name": "stdout",
          "output_type": "stream",
          "text": [
            "23,Lesión fatal accidente de tránsito según policía con precipitación, Recurso\n",
            "loaded\n"
          ]
        },
        {
          "name": "stderr",
          "output_type": "stream",
          "text": [
            "/tmp/ipykernel_103321/901921535.py:13: FutureWarning: The frame.append method is deprecated and will be removed from pandas in a future version. Use pandas.concat instead.\n",
            "  df_resource = df_resource.append(df)\n"
          ]
        },
        {
          "name": "stdout",
          "output_type": "stream",
          "text": [
            "24,Lesión no fatal accidental según policía, Recurso\n",
            "loaded\n"
          ]
        },
        {
          "name": "stderr",
          "output_type": "stream",
          "text": [
            "/tmp/ipykernel_103321/901921535.py:13: FutureWarning: The frame.append method is deprecated and will be removed from pandas in a future version. Use pandas.concat instead.\n",
            "  df_resource = df_resource.append(df)\n"
          ]
        },
        {
          "name": "stdout",
          "output_type": "stream",
          "text": [
            "25,Lesión no fatal accidente de tránsito según policía, Recurso\n"
          ]
        },
        {
          "name": "stderr",
          "output_type": "stream",
          "text": [
            "/home/felipe/DS4A/Project/code/datasets_scraping/frameParser.py:12: DtypeWarning: Columns (25) have mixed types. Specify dtype option on import or set low_memory=False.\n",
            "  return pd.read_csv(io.StringIO(content.decode('utf-8')), sep=\";\")\n",
            "/tmp/ipykernel_103321/901921535.py:13: FutureWarning: The frame.append method is deprecated and will be removed from pandas in a future version. Use pandas.concat instead.\n",
            "  df_resource = df_resource.append(df)\n"
          ]
        },
        {
          "name": "stdout",
          "output_type": "stream",
          "text": [
            "loaded\n",
            "26,Lesión no fatal dolosa según policía, Recurso\n"
          ]
        },
        {
          "name": "stderr",
          "output_type": "stream",
          "text": [
            "/home/felipe/DS4A/Project/code/datasets_scraping/frameParser.py:12: DtypeWarning: Columns (25) have mixed types. Specify dtype option on import or set low_memory=False.\n",
            "  return pd.read_csv(io.StringIO(content.decode('utf-8')), sep=\";\")\n",
            "/tmp/ipykernel_103321/901921535.py:13: FutureWarning: The frame.append method is deprecated and will be removed from pandas in a future version. Use pandas.concat instead.\n",
            "  df_resource = df_resource.append(df)\n"
          ]
        },
        {
          "name": "stdout",
          "output_type": "stream",
          "text": [
            "loaded\n",
            "27,Ley1098, Recurso\n",
            "loaded\n"
          ]
        },
        {
          "name": "stderr",
          "output_type": "stream",
          "text": [
            "/tmp/ipykernel_103321/901921535.py:13: FutureWarning: The frame.append method is deprecated and will be removed from pandas in a future version. Use pandas.concat instead.\n",
            "  df_resource = df_resource.append(df)\n"
          ]
        },
        {
          "name": "stdout",
          "output_type": "stream",
          "text": [
            "28,Llamada nuse123, Recurso\n",
            "loaded\n"
          ]
        },
        {
          "name": "stderr",
          "output_type": "stream",
          "text": [
            "/tmp/ipykernel_103321/901921535.py:13: FutureWarning: The frame.append method is deprecated and will be removed from pandas in a future version. Use pandas.concat instead.\n",
            "  df_resource = df_resource.append(df)\n"
          ]
        },
        {
          "name": "stdout",
          "output_type": "stream",
          "text": [
            "29,Recuperación de automotores, Recurso\n"
          ]
        },
        {
          "name": "stderr",
          "output_type": "stream",
          "text": [
            "/home/felipe/DS4A/Project/code/datasets_scraping/frameParser.py:12: DtypeWarning: Columns (25) have mixed types. Specify dtype option on import or set low_memory=False.\n",
            "  return pd.read_csv(io.StringIO(content.decode('utf-8')), sep=\";\")\n",
            "/tmp/ipykernel_103321/901921535.py:13: FutureWarning: The frame.append method is deprecated and will be removed from pandas in a future version. Use pandas.concat instead.\n",
            "  df_resource = df_resource.append(df)\n"
          ]
        },
        {
          "name": "stdout",
          "output_type": "stream",
          "text": [
            "loaded\n",
            "31,Recuperación de mercancía, Recurso\n"
          ]
        },
        {
          "name": "stderr",
          "output_type": "stream",
          "text": [
            "/home/felipe/DS4A/Project/code/datasets_scraping/frameParser.py:12: DtypeWarning: Columns (25) have mixed types. Specify dtype option on import or set low_memory=False.\n",
            "  return pd.read_csv(io.StringIO(content.decode('utf-8')), sep=\";\")\n",
            "/tmp/ipykernel_103321/901921535.py:13: FutureWarning: The frame.append method is deprecated and will be removed from pandas in a future version. Use pandas.concat instead.\n",
            "  df_resource = df_resource.append(df)\n"
          ]
        },
        {
          "name": "stdout",
          "output_type": "stream",
          "text": [
            "loaded\n",
            "32,Reincidencia violencia intrafamiliar, Crimen\n",
            "loaded\n",
            "33,Secuestro, Crimen\n"
          ]
        },
        {
          "name": "stderr",
          "output_type": "stream",
          "text": [
            "/tmp/ipykernel_103321/901921535.py:11: FutureWarning: The frame.append method is deprecated and will be removed from pandas in a future version. Use pandas.concat instead.\n",
            "  df_crime = df_crime.append(df)\n"
          ]
        },
        {
          "name": "stdout",
          "output_type": "stream",
          "text": [
            "loaded\n",
            "34,Solicitud de medidas de protección por violencia intrafamiliar, Recurso\n"
          ]
        },
        {
          "name": "stderr",
          "output_type": "stream",
          "text": [
            "/tmp/ipykernel_103321/901921535.py:11: FutureWarning: The frame.append method is deprecated and will be removed from pandas in a future version. Use pandas.concat instead.\n",
            "  df_crime = df_crime.append(df)\n"
          ]
        },
        {
          "name": "stdout",
          "output_type": "stream",
          "text": [
            "loaded\n"
          ]
        },
        {
          "name": "stderr",
          "output_type": "stream",
          "text": [
            "/tmp/ipykernel_103321/901921535.py:13: FutureWarning: The frame.append method is deprecated and will be removed from pandas in a future version. Use pandas.concat instead.\n",
            "  df_resource = df_resource.append(df)\n"
          ]
        }
      ],
      "source": [
        "df_crime = pd.DataFrame()\n",
        "df_resource = pd.DataFrame()\n",
        "for i, source in enumerate(sources):\n",
        "    if source in df_dict:\n",
        "        print(f\"{i + 1},{source}, {df_dict[source]}\")  #{sources[source]}\")\n",
        "        df = parser.get_df_from_url(sources[source])\n",
        "        df['Nbase'] = source\n",
        "        print('loaded')\n",
        "        df.set_index('Nbase')\n",
        "        if df_dict[source] == 'Crimen':\n",
        "            df_crime = df_crime.append(df)\n",
        "        else:\n",
        "            df_resource = df_resource.append(df)"
      ]
    },
    {
      "cell_type": "code",
      "execution_count": null,
      "metadata": {
        "pycharm": {
          "name": "#%%\n"
        },
        "id": "4AIlZKf1eYke"
      },
      "outputs": [],
      "source": [
        "df_crime.to_csv('dataframes/df_crimenes.csv', index=False)"
      ]
    },
    {
      "cell_type": "code",
      "execution_count": null,
      "metadata": {
        "pycharm": {
          "name": "#%%\n"
        },
        "id": "tiHEv8RFeYkf"
      },
      "outputs": [],
      "source": [
        "df_resource.to_csv('dataframes/df_recursos.csv', index=False)"
      ]
    }
  ],
  "metadata": {
    "interpreter": {
      "hash": "81794d4967e6c3204c66dcd87b604927b115b27c00565d3d43f05ba2f3a2cb0d"
    },
    "kernelspec": {
      "display_name": "Python 3 (ipykernel)",
      "language": "python",
      "name": "python3"
    },
    "language_info": {
      "codemirror_mode": {
        "name": "ipython",
        "version": 3
      },
      "file_extension": ".py",
      "mimetype": "text/x-python",
      "name": "python",
      "nbconvert_exporter": "python",
      "pygments_lexer": "ipython3",
      "version": "3.9.7"
    },
    "colab": {
      "name": "Web Scraping For Data Unification.ipynb",
      "provenance": []
    }
  },
  "nbformat": 4,
  "nbformat_minor": 0
}